{
 "cells": [
  {
   "cell_type": "code",
   "execution_count": 1,
   "metadata": {},
   "outputs": [],
   "source": [
    "import numpy as np\n",
    "import matplotlib.pyplot as plt\n",
    "import seaborn as sns\n",
    "\n",
    "\n",
    "from tqdm import tqdm\n",
    "\n",
    "c = 2.99792458e8 # 光速[m/s]"
   ]
  },
  {
   "cell_type": "code",
   "execution_count": null,
   "metadata": {},
   "outputs": [],
   "source": [
    "dx = 0.001 # x方向空間差分間隔[m]\n",
    "dy = 0.001 # y方向空間差分間隔[m]\n",
    "dz = 0.001 # z方向空間差分間隔[m]\n",
    "\n",
    "nx = 30 # x方向計算点数\n",
    "ny = 30 # y方向計算点数\n",
    "nz = 200 # z方向計算点数\n",
    "\n",
    "dt = 0.99/(c * np.sqrt((1.0/dx ** 2 + 1.0/dy ** 2 + 1.0/dz ** 2))) # 時間差分間隔[s] c.f.Courantの安定条件\n",
    "nt = 2 ** 14 # 計算ステップ数\n",
    "\n",
    "M = 3\n",
    "R = 1e-6\n",
    "pmlN = 8"
   ]
  },
  {
   "cell_type": "markdown",
   "metadata": {},
   "source": [
    "# 半波長ダイポールアンテナ"
   ]
  },
  {
   "cell_type": "code",
   "execution_count": null,
   "metadata": {},
   "outputs": [
    {
     "name": "stderr",
     "output_type": "stream",
     "text": [
      " 25%|█████████▎                           | 4140/16384 [03:26<10:47, 18.90it/s]"
     ]
    }
   ],
   "source": [
    "# 電気定数初期化と更新係数の計算\n",
    "eps = np.full((nx, ny, nz), 8.854187817e-12)\n",
    "mu = np.full((nx, ny, nz), 1.2566370614e-6)\n",
    "sigma = np.full((nx, ny, nz), 0.0)\n",
    "\n",
    "for ln in range(pmlN):\n",
    "    sigma_value = ((pmlN - ln)/pmlN) ** M * ((M + 1) * (-np.log(R))/(2 * pmlN * dx * 120 * np.pi)) # PML吸収境界のsigma計算\n",
    "    \n",
    "    sigma[ln : ln + 1, :, :] = sigma_value\n",
    "    sigma[:, ln : ln + 1, :] = sigma_value\n",
    "    sigma[:, :, ln : ln + 1] = sigma_value\n",
    "\n",
    "    sigma[-(ln + 1) : -ln, :, :] = sigma_value\n",
    "    sigma[:, -(ln + 1) : -ln, :] = sigma_value\n",
    "    sigma[:, :, -(ln + 1) : -ln] = sigma_value\n",
    "\n",
    "dhx = dt / (mu * dx) # 式(9) - (11)の右辺係数\n",
    "dhy = dt / (mu * dy) # 式(9) - (11)の右辺係数\n",
    "dhz = dt / (mu * dz) # 式(9) - (11)の右辺係数\n",
    "\n",
    "ce = (2.0 * eps - sigma * dt)/(2.0 * eps + sigma * dt) # 式(12) - (14)の右辺第一項係数\n",
    "dex = 2.0 * dt /((2.0 * eps * dx) + (sigma * dt * dx)) # 式(12) - (14)の右辺第二項係数\n",
    "dey = 2.0 * dt /((2.0 * eps * dy) + (sigma * dt * dy)) # 式(12) - (14)の右辺第二項係数\n",
    "dez = 2.0 * dt /((2.0 * eps * dz) + (sigma * dt * dz)) # 式(12) - (14)の右辺第二項係数\n",
    "\n",
    "# 電磁界初期化\n",
    "t = 0.0\n",
    "\n",
    "E_x = np.zeros(shape=(nx, ny, nz))\n",
    "E_y = np.zeros(shape=(nx, ny, nz))\n",
    "E_z = np.zeros(shape=(nx, ny, nz))\n",
    "H_x = np.zeros(shape=(nx, ny, nz))\n",
    "H_y = np.zeros(shape=(nx, ny, nz))\n",
    "H_z = np.zeros(shape=(nx, ny, nz))\n",
    "\n",
    "tl = np.zeros(nt)\n",
    "it = np.zeros(nt)\n",
    "vt = np.zeros(nt)\n",
    "\n",
    "\n",
    "fig = plt.figure()\n",
    "for _ in tqdm(range(nt)):\n",
    "    \n",
    "    # 電界のz成分を励振\n",
    "    Vin = np.exp(-((t-(nt//50)*dt)/(dt))**2)\n",
    "    E_z[nx//2, ny//2, nz//2] = Vin/dz\n",
    "    t += dt/2\n",
    "    \n",
    "    # 電界各成分計算\n",
    "    E_x = ce * E_x + dez * (H_z - np.roll(H_z, shift=1, axis=1))\\\n",
    "                   - dey * (H_y - np.roll(H_y, shift=1, axis=2))\n",
    "\n",
    "    E_y = ce * E_y + dey * (H_x - np.roll(H_x, shift=1, axis=2))\\\n",
    "                   - dez * (H_z - np.roll(H_z, shift=1, axis=0))\n",
    "\n",
    "    E_z = ce * E_z + dez * (H_y - np.roll(H_y, shift=1, axis=0))\\\n",
    "                   - dex * (H_x - np.roll(H_x, shift=1, axis=1))\n",
    "    \n",
    "    E_z[nx//2, ny//2, nz//2 - 50: nz//2 + 50] = 0 # \n",
    "    \n",
    "    Eamp = np.sqrt(E_x**2 + E_y**2 + E_z**2)\n",
    "    \n",
    "    # 電界のz成分を励振\n",
    "    Vin = np.exp(-((t-(nt//50)*dt)/(dt*10))**2)\n",
    "    E_z[nx//2, ny//2, nz//2] = Vin/dz\n",
    "    t += dt/2\n",
    "    \n",
    "    # 磁界各成分計算\n",
    "    H_x = H_x + dhz * (E_z - np.roll(E_z, shift=-1, axis=1))\\\n",
    "              - dhy * (E_y - np.roll(E_y, shift=-1, axis=2))\n",
    "\n",
    "    H_y = H_y + dhy * (E_x - np.roll(E_x, shift=-1, axis=2))\\\n",
    "              - dhz * (E_z - np.roll(E_z, shift=-1, axis=0))\n",
    "\n",
    "    H_z = H_z + dhz * (E_y - np.roll(E_y, shift=-1, axis=0))\\\n",
    "              - dhx * (E_x - np.roll(E_x, shift=-1, axis=1))\n",
    "    \n",
    "    \n",
    "    if _ % 2**8 == 0:\n",
    "        plt.imshow(Eamp[nx//2, :, :], vmin=0, vmax=1.0, cmap=\"Reds\")\n",
    "        plt.colorbar()\n",
    "        plt.savefig(str(_).zfill(8) + \".png\")\n",
    "        plt.close('all')\n",
    "    \n",
    "    \n",
    "    Iin = 2 * dy * (H_x[nx//2, ny//2 + 1, nz//2] - H_x[nx//2, ny//2 - 1, nz//2])\\\n",
    "        - 2 * dx * (H_y[nx//2 + 1, ny//2, nz//2] - H_y[nx//2 - 1, ny//2, nz//2])\n",
    "    \n",
    "    tl[_] = t\n",
    "    it[_] = Iin\n",
    "    vt[_] = Vin"
   ]
  },
  {
   "cell_type": "code",
   "execution_count": null,
   "metadata": {},
   "outputs": [],
   "source": [
    "fl = np.linspace(0, 1/dt, nt)\n",
    "\n",
    "start = 0\n",
    "end = 300\n",
    "\n",
    "plt.plot(fl[start:end], np.real(np.fft.fft(vt)/np.fft.fft(it))[start:end], color=\"red\", label=\"Real Imp. [Ohm]\")\n",
    "plt.plot(fl[start:end], np.imag(np.fft.fft(vt)/np.fft.fft(it))[start:end], color=\"blue\", label=\"Imag Imp. [Ohm]\")\n",
    "plt.ylim(-10000, 10000)\n",
    "plt.legend()"
   ]
  },
  {
   "cell_type": "code",
   "execution_count": null,
   "metadata": {},
   "outputs": [],
   "source": [
    "start = 30\n",
    "end = 60\n",
    "\n",
    "plt.plot(fl[start:end], np.real(np.fft.fft(vt)/np.fft.fft(it))[start:end], color=\"red\", label=\"Real Imp. [Ohm]\")\n",
    "plt.plot(fl[start:end], np.imag(np.fft.fft(vt)/np.fft.fft(it))[start:end], color=\"blue\", label=\"Imag Imp. [Ohm]\")\n",
    "plt.ylim(0, 100)\n",
    "plt.legend()"
   ]
  },
  {
   "cell_type": "code",
   "execution_count": null,
   "metadata": {},
   "outputs": [],
   "source": [
    "for f, imp in zip(fl[start:end]/10**9, np.fft.fft(vt)[start:end]/np.fft.fft(it)[:]):\n",
    "    print(f, imp)"
   ]
  },
  {
   "cell_type": "code",
   "execution_count": null,
   "metadata": {},
   "outputs": [],
   "source": [
    "plt.plot(tl, it * 1000, label=\"Current [mA]\")\n",
    "plt.plot(tl, vt, label=\"Voltage [V]\")\n",
    "plt.legend()"
   ]
  },
  {
   "cell_type": "code",
   "execution_count": null,
   "metadata": {},
   "outputs": [],
   "source": []
  }
 ],
 "metadata": {
  "file_extension": ".py",
  "kernelspec": {
   "display_name": "Python 3",
   "language": "python",
   "name": "python3"
  },
  "language_info": {
   "codemirror_mode": {
    "name": "ipython",
    "version": 3
   },
   "file_extension": ".py",
   "mimetype": "text/x-python",
   "name": "python",
   "nbconvert_exporter": "python",
   "pygments_lexer": "ipython3",
   "version": "3.6.8"
  },
  "mimetype": "text/x-python",
  "name": "python",
  "npconvert_exporter": "python",
  "pygments_lexer": "ipython3",
  "version": 3
 },
 "nbformat": 4,
 "nbformat_minor": 2
}
