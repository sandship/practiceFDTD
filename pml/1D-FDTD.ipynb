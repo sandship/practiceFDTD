{
 "cells": [
  {
   "cell_type": "code",
   "execution_count": 45,
   "metadata": {},
   "outputs": [],
   "source": [
    "import numpy as np\n",
    "import matplotlib.pyplot as plt\n",
    "import matplotlib.animation as animation\n",
    "\n",
    "from tqdm import tqdm\n",
    "\n",
    "c = 2.99792458e8 # 光速[m/s]\n",
    "eps0 = 8.854187817e-12\n",
    "mu0 = 1.2566370614e-6"
   ]
  },
  {
   "cell_type": "code",
   "execution_count": 46,
   "metadata": {},
   "outputs": [],
   "source": [
    "dx = 0.002 # 空間差分間隔[m]\n",
    "c = 299792458.0 # 光速[m/s]\n",
    "\n",
    "dt = dx/c * 0.99 # 時間差分間隔[s]\n",
    "f = 3.0e9 # 周波数[Hz]\n",
    "\n",
    "nx = 1000 # 計算点数\n",
    "nt = 5000 # 計算ステップ数\n",
    "t = 0"
   ]
  },
  {
   "cell_type": "markdown",
   "metadata": {},
   "source": [
    "## 磁気壁あり"
   ]
  },
  {
   "cell_type": "code",
   "execution_count": 47,
   "metadata": {},
   "outputs": [
    {
     "name": "stderr",
     "output_type": "stream",
     "text": [
      "100%|████████████████████████████████████| 5000/5000 [00:01<00:00, 4409.10it/s]\n"
     ]
    },
    {
     "data": {
      "image/png": "[encoded data removed]",
      "text/plain": [
       "<Figure size 432x288 with 1 Axes>"
      ]
     },
     "metadata": {
      "needs_background": "light"
     },
     "output_type": "display_data"
    }
   ],
   "source": [
    "# 電気定数初期化と更新係数の計算\n",
    "eps = np.full(nx, eps0)\n",
    "mu = np.full(nx, mu0)\n",
    "sigma = np.full(nx, 0.0)\n",
    "sigmam = np.full(nx, 0.0)\n",
    "\n",
    "# PML用のパラメータ\n",
    "M = 3     # 吸収境界の導電率の上昇曲線の次数(2 - 3次が一般的)\n",
    "R = 1e-6  # 境界面において実現したい反射係数\n",
    "pmlN = 8 #PMLの層数、大きいほど計算コストが増えるが、反射率低減可\n",
    "\n",
    "for ln in range(pmlN):\n",
    "    sigma_value = ((pmlN - ln)/pmlN) ** M * ((M + 1) * (-np.log(R))/(2 * pmlN * dx * 120 * np.pi)) # PML吸収境界のsigma計算\n",
    "    sigma[ln : ln + 1] = sigma_value\n",
    "    sigma[-(ln + 1) : -ln] = sigma_value\n",
    "    \n",
    "    sigmam[ln : ln + 1] = mu0/eps0 * sigma_value\n",
    "    sigmam[-(ln + 1) : -ln] = mu0/eps0 * sigma_value\n",
    "    \n",
    "\n",
    "ch = (2.0 * mu - sigmam * dt)/(2.0 * mu + sigmam * dt) # 式(12) - (14)の右辺第一項係数\n",
    "dh = 2.0 * dt /((2.0 * mu * dx) + (sigmam * dt * dx)) # 式(12) - (14)の右辺第二項係数\n",
    "\n",
    "ce = (2.0 * eps - sigma * dt)/(2.0 * eps + sigma * dt) # 式(12) - (14)の右辺第一項係数\n",
    "de = 2.0 * dt /((2.0 * eps * dx) + (sigma * dt * dx)) # 式(12) - (14)の右辺第二項係数\n",
    "\n",
    "E_y = np.zeros(nx)\n",
    "E_z = np.zeros(nx)\n",
    "H_y = np.zeros(nx)\n",
    "H_z = np.zeros(nx)\n",
    "\n",
    "fig = plt.figure()\n",
    "image_list = []\n",
    "for _ in tqdm(range(nt)):\n",
    "    \n",
    "    # 電界のy成分を励振\n",
    "    E_y[nx//2] = np.sin(2.0 * np.pi * f * t)\n",
    "    \n",
    "    t += dt/2\n",
    "    # 電界各成分計算\n",
    "    E_y = ce * E_y - de * (H_z - np.roll(H_z, shift=1, axis=0))\n",
    "\n",
    "    E_z = ce * E_z + de * (H_y - np.roll(H_y, shift=1, axis=0))\n",
    "    \n",
    "    # 電界のy成分を励振\n",
    "    E_y[nx//2] = np.sin(2.0 * np.pi * f * t)\n",
    "    \n",
    "    t += dt/2\n",
    "\n",
    "    H_y = ch * H_y - dh * (E_z - np.roll(E_z, shift=-1, axis=0))\n",
    "\n",
    "    H_z = ch * H_z + dh * (E_y - np.roll(E_y, shift=-1, axis=0))\n",
    "    \n",
    "    if _%10 == 0:\n",
    "        img = plt.plot(E_y, color=\"blue\")\n",
    "        plt.ylim(-3.0, 3.0)\n",
    "        image_list.append(img)\n",
    "\n",
    "ani = animation.ArtistAnimation(fig, image_list, interval=50)\n",
    "ani.save(\"freeSpace_w_MW.gif\", writer=\"pillow\")"
   ]
  },
  {
   "cell_type": "markdown",
   "metadata": {},
   "source": [
    "## 磁気壁なし"
   ]
  },
  {
   "cell_type": "code",
   "execution_count": 48,
   "metadata": {},
   "outputs": [
    {
     "name": "stderr",
     "output_type": "stream",
     "text": [
      "100%|████████████████████████████████████| 5000/5000 [00:01<00:00, 4139.06it/s]\n"
     ]
    },
    {
     "data": {
      "image/png": "[encoded data removed]",
      "text/plain": [
       "<Figure size 432x288 with 1 Axes>"
      ]
     },
     "metadata": {
      "needs_background": "light"
     },
     "output_type": "display_data"
    }
   ],
   "source": [
    "# 電気定数初期化と更新係数の計算\n",
    "eps = np.full(nx, eps0)\n",
    "mu = np.full(nx, mu0)\n",
    "sigma = np.full(nx, 0.0)\n",
    "sigmam = np.full(nx, 0.0)\n",
    "\n",
    "# PML用のパラメータ\n",
    "M = 3     # 吸収境界の導電率の上昇曲線の次数(2 - 3次が一般的)\n",
    "R = 1e-6  # 境界面において実現したい反射係数\n",
    "pmlN = 8 #PMLの層数、大きいほど計算コストが増えるが、反射率低減可\n",
    "\n",
    "for ln in range(pmlN):\n",
    "    sigma_value = ((pmlN - ln)/pmlN) ** M * ((M + 1) * (-np.log(R))/(2 * pmlN * dx * 120 * np.pi)) # PML吸収境界のsigma計算\n",
    "    sigma[ln : ln + 1] = sigma_value\n",
    "    sigma[-(ln + 1) : -ln] = sigma_value\n",
    "    \n",
    "dh = 2.0 * dt /((2.0 * mu * dx) + (sigmam * dt * dx)) # 式(12) - (14)の右辺第二項係数\n",
    "\n",
    "ce = (2.0 * eps - sigma * dt)/(2.0 * eps + sigma * dt) # 式(12) - (14)の右辺第一項係数\n",
    "de = 2.0 * dt /((2.0 * eps * dx) + (sigma * dt * dx)) # 式(12) - (14)の右辺第二項係数\n",
    "\n",
    "E_y = np.zeros(nx)\n",
    "E_z = np.zeros(nx)\n",
    "H_y = np.zeros(nx)\n",
    "H_z = np.zeros(nx)\n",
    "\n",
    "fig = plt.figure()\n",
    "image_list = []\n",
    "for _ in tqdm(range(nt)):\n",
    "    \n",
    "    # 電界のy成分を励振\n",
    "    E_y[nx//2] = np.sin(2.0 * np.pi * f * t)\n",
    "    \n",
    "    t += dt/2\n",
    "    # 電界各成分計算\n",
    "    E_y = ce * E_y - de * (H_z - np.roll(H_z, shift=1, axis=0))\n",
    "\n",
    "    E_z = ce * E_z + de * (H_y - np.roll(H_y, shift=1, axis=0))\n",
    "    \n",
    "    # 電界のy成分を励振\n",
    "    E_y[nx//2] = np.sin(2.0 * np.pi * f * t)\n",
    "    \n",
    "    t += dt/2\n",
    "\n",
    "    H_y = H_y - dh * (E_z - np.roll(E_z, shift=-1, axis=0))\n",
    "\n",
    "    H_z = H_z + dh * (E_y - np.roll(E_y, shift=-1, axis=0))\n",
    "    \n",
    "    if _%10 == 0:\n",
    "        img = plt.plot(E_y, color=\"blue\")\n",
    "        plt.ylim(-3.0, 3.0)\n",
    "        image_list.append(img)\n",
    "\n",
    "ani = animation.ArtistAnimation(fig, image_list, interval=50)\n",
    "ani.save(\"freeSpace_wo_MW.gif\", writer=\"pillow\")"
   ]
  },
  {
   "cell_type": "code",
   "execution_count": null,
   "metadata": {},
   "outputs": [],
   "source": []
  },
  {
   "cell_type": "code",
   "execution_count": null,
   "metadata": {},
   "outputs": [],
   "source": []
  }
 ],
 "metadata": {
  "kernelspec": {
   "display_name": "Python 3",
   "language": "python",
   "name": "python3"
  },
  "language_info": {
   "codemirror_mode": {
    "name": "ipython",
    "version": 3
   },
   "file_extension": ".py",
   "mimetype": "text/x-python",
   "name": "python",
   "nbconvert_exporter": "python",
   "pygments_lexer": "ipython3",
   "version": "3.6.8"
  }
 },
 "nbformat": 4,
 "nbformat_minor": 2
}
