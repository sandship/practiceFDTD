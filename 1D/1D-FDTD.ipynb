{
 "cells": [
  {
   "cell_type": "code",
   "execution_count": 11,
   "metadata": {},
   "outputs": [],
   "source": [
    "import numpy as np\n",
    "import matplotlib.pyplot as plt\n",
    "import matplotlib.animation as animation\n",
    "\n",
    "from tqdm import tqdm"
   ]
  },
  {
   "cell_type": "code",
   "execution_count": 12,
   "metadata": {},
   "outputs": [],
   "source": [
    "dx = 0.002 # 空間差分間隔[m]\n",
    "c = 299792458.0 # 光速[m/s]\n",
    "\n",
    "dt = dx/c * 0.99 # 時間差分間隔[s]\n",
    "f = 3.5e9 # 周波数[Hz]\n",
    "\n",
    "nx = 10000 # 計算点数\n",
    "nt = 500 # 計算ステップ数"
   ]
  },
  {
   "cell_type": "markdown",
   "metadata": {},
   "source": [
    "## 真空"
   ]
  },
  {
   "cell_type": "code",
   "execution_count": 13,
   "metadata": {},
   "outputs": [
    {
     "name": "stderr",
     "output_type": "stream",
     "text": [
      "100%|███████████████████████████████████████| 500/500 [00:00<00:00, 726.75it/s]\n"
     ]
    },
    {
     "data": {
      "image/png": "[encoded data removed]",
      "text/plain": [
       "<Figure size 432x288 with 1 Axes>"
      ]
     },
     "metadata": {
      "needs_background": "light"
     },
     "output_type": "display_data"
    }
   ],
   "source": [
    "# 初期化\n",
    "t = 0.0\n",
    "\n",
    "eps = np.full(nx, 8.854187817e-12)\n",
    "mu = np.full(nx, 1.2566370614e-6)\n",
    "\n",
    "E_y = np.zeros(nx)\n",
    "E_z = np.zeros(nx)\n",
    "H_y = np.zeros(nx)\n",
    "H_z = np.zeros(nx)\n",
    "\n",
    "fig = plt.figure()\n",
    "image_list = []\n",
    "for _ in tqdm(range(nt)):\n",
    "    \n",
    "    # 電界のy成分を励振\n",
    "    E_y[nx//2] = np.sin(2.0 * np.pi * f * t)\n",
    "    \n",
    "    t += dt/2\n",
    "    E_y += -dt/(eps*dx) * (H_z - np.roll(H_z, shift=1))\n",
    "    E_z += dt/(eps*dx) * (H_y - np.roll(H_y, shift=1))\n",
    "    \n",
    "    # 電界のy成分を励振\n",
    "    E_y[nx//2] = np.sin(2.0 * np.pi * f * t)\n",
    "    \n",
    "    t += dt/2\n",
    "    H_y += -dt/(mu*dx) * (E_z - np.roll(E_z, shift=-1))\n",
    "    H_z += dt/(mu*dx) * (E_y - np.roll(E_y, shift=-1))\n",
    "    \n",
    "    img = plt.plot(E_y[nx//2 - 200 : nx//2 + 200], color=\"blue\")\n",
    "    plt.ylim(-3.0, 3.0)\n",
    "    image_list.append(img)\n",
    "\n",
    "ani = animation.ArtistAnimation(fig, image_list, interval=50)\n",
    "ani.save(\"freeSpace.gif\", writer=\"pillow\")"
   ]
  },
  {
   "cell_type": "markdown",
   "metadata": {},
   "source": [
    "## 誘電体"
   ]
  },
  {
   "cell_type": "code",
   "execution_count": 14,
   "metadata": {},
   "outputs": [
    {
     "name": "stderr",
     "output_type": "stream",
     "text": [
      "100%|███████████████████████████████████████| 500/500 [00:00<00:00, 670.23it/s]\n"
     ]
    },
    {
     "data": {
      "image/png": "[encoded data removed]",
      "text/plain": [
       "<Figure size 432x288 with 1 Axes>"
      ]
     },
     "metadata": {
      "needs_background": "light"
     },
     "output_type": "display_data"
    }
   ],
   "source": [
    "# 初期化\n",
    "t = 0.0\n",
    "\n",
    "E_y = np.zeros(nx)\n",
    "E_z = np.zeros(nx)\n",
    "H_y = np.zeros(nx)\n",
    "H_z = np.zeros(nx)\n",
    "\n",
    "fig = plt.figure()\n",
    "image_list = []\n",
    "\n",
    "eps = np.full(nx, 8.854187817e-12)\n",
    "mu = np.full(nx, 1.2566370614e-6)\n",
    "\n",
    "eps[nx//2 + 50] = 100 * 8.854187817e-12 # 比誘電率100の誘電体を設置\n",
    "\n",
    "for _ in tqdm(range(nt)):\n",
    "    \n",
    "    # 電界のy成分を励振\n",
    "    E_y[nx//2] = np.sin(2.0 * np.pi * f * t)\n",
    "    \n",
    "    t += dt/2\n",
    "    E_y += -dt/(eps*dx) * (H_z - np.roll(H_z, shift=1))\n",
    "    E_z += dt/(eps*dx) * (H_y - np.roll(H_y, shift=1))\n",
    "    \n",
    "    # 電界のy成分を励振\n",
    "    E_y[nx//2] = np.sin(2.0 * np.pi * f * t)\n",
    "    \n",
    "    t += dt/2\n",
    "    H_y += -dt/(mu*dx) * (E_z - np.roll(E_z, shift=-1))\n",
    "    H_z += dt/(mu*dx) * (E_y - np.roll(E_y, shift=-1))\n",
    "    \n",
    "    img = plt.plot(E_y[nx//2 - 200 : nx//2 + 200], color=\"blue\")\n",
    "    plt.ylim(-3.0, 3.0)\n",
    "    image_list.append(img)\n",
    "\n",
    "ani = animation.ArtistAnimation(fig, image_list, interval=50)\n",
    "ani.save(\"Permitibity.gif\", writer=\"pillow\")"
   ]
  },
  {
   "cell_type": "markdown",
   "metadata": {},
   "source": [
    "## 金属"
   ]
  },
  {
   "cell_type": "code",
   "execution_count": 15,
   "metadata": {},
   "outputs": [
    {
     "name": "stderr",
     "output_type": "stream",
     "text": [
      "100%|███████████████████████████████████████| 500/500 [00:00<00:00, 619.56it/s]\n"
     ]
    },
    {
     "data": {
      "image/png": "[encoded data removed]",
      "text/plain": [
       "<Figure size 432x288 with 1 Axes>"
      ]
     },
     "metadata": {
      "needs_background": "light"
     },
     "output_type": "display_data"
    }
   ],
   "source": [
    "# 初期化\n",
    "t = 0.0\n",
    "\n",
    "E_y = np.zeros(nx)\n",
    "E_z = np.zeros(nx)\n",
    "H_y = np.zeros(nx)\n",
    "H_z = np.zeros(nx)\n",
    "\n",
    "fig = plt.figure()\n",
    "image_list = []\n",
    "\n",
    "eps = np.full(nx, 8.854187817e-12)\n",
    "mu = np.full(nx, 1.2566370614e-6)\n",
    "\n",
    "for _ in tqdm(range(nt)):\n",
    "    \n",
    "    # 電界のy成分を励振\n",
    "    E_y[nx//2] = np.sin(2.0 * np.pi * f * t)\n",
    "    \n",
    "    t += dt/2\n",
    "    E_y += -dt/(eps*dx) * (H_z - np.roll(H_z, shift=1))\n",
    "    E_z += dt/(eps*dx) * (H_y - np.roll(H_y, shift=1))\n",
    "    \n",
    "    E_y[nx//2 + 50] = 0.0\n",
    "    E_z[nx//2 + 50] = 0.0\n",
    "    \n",
    "    # 電界のy成分を励振\n",
    "    E_y[nx//2] = np.sin(2.0 * np.pi * f * t)\n",
    "    \n",
    "    t += dt/2\n",
    "    H_y += -dt/(mu*dx) * (E_z - np.roll(E_z, shift=-1))\n",
    "    H_z += dt/(mu*dx) * (E_y - np.roll(E_y, shift=-1))\n",
    "    \n",
    "    img = plt.plot(E_y[nx//2 - 200 : nx//2 + 200], color=\"blue\")\n",
    "    plt.ylim(-3.0, 3.0)\n",
    "    image_list.append(img)\n",
    "\n",
    "ani = animation.ArtistAnimation(fig, image_list, interval=50)\n",
    "ani.save(\"Metal.gif\", writer=\"pillow\")"
   ]
  },
  {
   "cell_type": "code",
   "execution_count": null,
   "metadata": {},
   "outputs": [],
   "source": []
  }
 ],
 "metadata": {
  "kernelspec": {
   "display_name": "Python 3",
   "language": "python",
   "name": "python3"
  },
  "language_info": {
   "codemirror_mode": {
    "name": "ipython",
    "version": 3
   },
   "file_extension": ".py",
   "mimetype": "text/x-python",
   "name": "python",
   "nbconvert_exporter": "python",
   "pygments_lexer": "ipython3",
   "version": "3.6.8"
  }
 },
 "nbformat": 4,
 "nbformat_minor": 2
}
